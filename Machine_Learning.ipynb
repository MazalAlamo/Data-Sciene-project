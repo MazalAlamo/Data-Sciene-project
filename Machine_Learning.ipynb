{
 "cells": [
  {
   "cell_type": "markdown",
   "metadata": {},
   "source": [
    "## Hey :)\n",
    "### I'm doing Machine Learning (you will see soon how hard I work)\n",
    "\n",
    "### Please follow the runing instructions:\n",
    "### 1. run me first\n",
    "### 2. 'Date_Picker'\n",
    "### 3. My_Prediction"
   ]
  },
  {
   "cell_type": "code",
   "execution_count": 1,
   "metadata": {},
   "outputs": [],
   "source": [
    "from bs4 import BeautifulSoup\n",
    "import requests\n",
    "import json\n",
    "import pandas as pd\n",
    "import matplotlib as np\n",
    "from datetime import date\n",
    "import re\n",
    "import os\n",
    "from matplotlib import pyplot as plt\n",
    "from numpy import random\n",
    "import seaborn as sns\n",
    "%matplotlib inline\n",
    "from sklearn import metrics\n",
    "from sklearn.model_selection import train_test_split\n",
    "from sklearn.naive_bayes import GaussianNB\n",
    "from sklearn.linear_model import LogisticRegression\n",
    "from sklearn.linear_model import LinearRegression\n",
    "from sklearn.neighbors import KNeighborsClassifier\n",
    "import numpy as np\n",
    "import matplotlib.pyplot as plt\n",
    "import seaborn as sns"
   ]
  },
  {
   "cell_type": "code",
   "execution_count": 2,
   "metadata": {},
   "outputs": [],
   "source": [
    "def get_url_content(url):\n",
    "    url = \"https://www.transfermarkt.com\" + url\n",
    "    response = requests.get(url, headers={'User-Agent': 'Custom'})\n",
    "    return BeautifulSoup(response.content, 'html.parser')"
   ]
  },
  {
   "cell_type": "code",
   "execution_count": 3,
   "metadata": {},
   "outputs": [],
   "source": [
    "def get_name_and_id_from_url(url):\n",
    "    team_partitioned_link = url.partition('/')\n",
    "    team_partitioned_link = team_partitioned_link[2]\n",
    "    team_partitioned_link = team_partitioned_link.partition('/')\n",
    "    teamName_url = team_partitioned_link[0]\n",
    "    team_partitioned_link = team_partitioned_link[2]\n",
    "    team_partitioned_link = team_partitioned_link.partition('/')\n",
    "    team_partitioned_link = team_partitioned_link[2]\n",
    "    team_partitioned_link = team_partitioned_link.partition('/')\n",
    "    team_partitioned_link = team_partitioned_link[2]\n",
    "    team_partitioned_link = team_partitioned_link.partition('/')\n",
    "    team_id = team_partitioned_link[0]\n",
    "    return teamName_url, team_id"
   ]
  },
  {
   "cell_type": "code",
   "execution_count": 4,
   "metadata": {},
   "outputs": [
    {
     "data": {
      "text/html": [
       "<style  type=\"text/css\" >\n",
       "    #T_956c166f_8686_11ec_8568_a497b18cfc26 th {\n",
       "          text-align: center;\n",
       "          background-color: #f7e4f5;\n",
       "    }#T_956c166f_8686_11ec_8568_a497b18cfc26row0_col0,#T_956c166f_8686_11ec_8568_a497b18cfc26row1_col0,#T_956c166f_8686_11ec_8568_a497b18cfc26row2_col0,#T_956c166f_8686_11ec_8568_a497b18cfc26row3_col0,#T_956c166f_8686_11ec_8568_a497b18cfc26row4_col0{\n",
       "            text-align:  center;\n",
       "            background-color:  #f7e4f5;\n",
       "        }</style><table id=\"T_956c166f_8686_11ec_8568_a497b18cfc26\" ><thead>    <tr>        <th class=\"blank level0\" ></th>        <th class=\"col_heading level0 col0\" >Competition</th>    </tr></thead><tbody>\n",
       "                <tr>\n",
       "                        <th id=\"T_956c166f_8686_11ec_8568_a497b18cfc26level0_row0\" class=\"row_heading level0 row0\" >0</th>\n",
       "                        <td id=\"T_956c166f_8686_11ec_8568_a497b18cfc26row0_col0\" class=\"data row0 col0\" >Bundesliga</td>\n",
       "            </tr>\n",
       "            <tr>\n",
       "                        <th id=\"T_956c166f_8686_11ec_8568_a497b18cfc26level0_row1\" class=\"row_heading level0 row1\" >1</th>\n",
       "                        <td id=\"T_956c166f_8686_11ec_8568_a497b18cfc26row1_col0\" class=\"data row1 col0\" >Seria A</td>\n",
       "            </tr>\n",
       "            <tr>\n",
       "                        <th id=\"T_956c166f_8686_11ec_8568_a497b18cfc26level0_row2\" class=\"row_heading level0 row2\" >2</th>\n",
       "                        <td id=\"T_956c166f_8686_11ec_8568_a497b18cfc26row2_col0\" class=\"data row2 col0\" >Ligue 1</td>\n",
       "            </tr>\n",
       "            <tr>\n",
       "                        <th id=\"T_956c166f_8686_11ec_8568_a497b18cfc26level0_row3\" class=\"row_heading level0 row3\" >3</th>\n",
       "                        <td id=\"T_956c166f_8686_11ec_8568_a497b18cfc26row3_col0\" class=\"data row3 col0\" >Primier League</td>\n",
       "            </tr>\n",
       "            <tr>\n",
       "                        <th id=\"T_956c166f_8686_11ec_8568_a497b18cfc26level0_row4\" class=\"row_heading level0 row4\" >4</th>\n",
       "                        <td id=\"T_956c166f_8686_11ec_8568_a497b18cfc26row4_col0\" class=\"data row4 col0\" >La Liga</td>\n",
       "            </tr>\n",
       "    </tbody></table>"
      ],
      "text/plain": [
       "<pandas.io.formats.style.Styler at 0x24752955370>"
      ]
     },
     "metadata": {},
     "output_type": "display_data"
    },
    {
     "name": "stdout",
     "output_type": "stream",
     "text": [
      "Choose the competition number you want to learn: 3\n"
     ]
    }
   ],
   "source": [
    "#competitions table \n",
    "%store -z \n",
    "\n",
    "Competitions = [\"Bundesliga\", \"Seria A\", \"Ligue 1\",\"Primier League\", \"La Liga\"]\n",
    "competitions_df = pd.DataFrame(Competitions, columns = ['Competition'])\n",
    "competitions_df = competitions_df.style.set_properties(**{'text-align': 'center','background-color':'#f7e4f5'})\n",
    "competitions_df = competitions_df.set_table_styles([dict(selector = 'th', \n",
    "                                                         props=[('text-align', 'center'),('background-color', '#f7e4f5')])])\n",
    "display(competitions_df)\n",
    "competition_to_learn_num = int(input(\"Choose the competition number you want to learn: \"))"
   ]
  },
  {
   "cell_type": "code",
   "execution_count": 5,
   "metadata": {},
   "outputs": [
    {
     "data": {
      "text/html": [
       "<style  type=\"text/css\" >\n",
       "    #T_9667f50f_8686_11ec_befd_a497b18cfc26 th {\n",
       "          text-align: center;\n",
       "          background-color: #dcf5f7;\n",
       "    }#T_9667f50f_8686_11ec_befd_a497b18cfc26row0_col0,#T_9667f50f_8686_11ec_befd_a497b18cfc26row1_col0,#T_9667f50f_8686_11ec_befd_a497b18cfc26row2_col0,#T_9667f50f_8686_11ec_befd_a497b18cfc26row3_col0,#T_9667f50f_8686_11ec_befd_a497b18cfc26row4_col0{\n",
       "            text-align:  center;\n",
       "            background-color:  #dcf5f7;\n",
       "        }</style><table id=\"T_9667f50f_8686_11ec_befd_a497b18cfc26\" ><thead>    <tr>        <th class=\"blank level0\" ></th>        <th class=\"col_heading level0 col0\" >Seasons</th>    </tr></thead><tbody>\n",
       "                <tr>\n",
       "                        <th id=\"T_9667f50f_8686_11ec_befd_a497b18cfc26level0_row0\" class=\"row_heading level0 row0\" >0</th>\n",
       "                        <td id=\"T_9667f50f_8686_11ec_befd_a497b18cfc26row0_col0\" class=\"data row0 col0\" >15/16</td>\n",
       "            </tr>\n",
       "            <tr>\n",
       "                        <th id=\"T_9667f50f_8686_11ec_befd_a497b18cfc26level0_row1\" class=\"row_heading level0 row1\" >1</th>\n",
       "                        <td id=\"T_9667f50f_8686_11ec_befd_a497b18cfc26row1_col0\" class=\"data row1 col0\" >16/17</td>\n",
       "            </tr>\n",
       "            <tr>\n",
       "                        <th id=\"T_9667f50f_8686_11ec_befd_a497b18cfc26level0_row2\" class=\"row_heading level0 row2\" >2</th>\n",
       "                        <td id=\"T_9667f50f_8686_11ec_befd_a497b18cfc26row2_col0\" class=\"data row2 col0\" >17/18</td>\n",
       "            </tr>\n",
       "            <tr>\n",
       "                        <th id=\"T_9667f50f_8686_11ec_befd_a497b18cfc26level0_row3\" class=\"row_heading level0 row3\" >3</th>\n",
       "                        <td id=\"T_9667f50f_8686_11ec_befd_a497b18cfc26row3_col0\" class=\"data row3 col0\" >18/19</td>\n",
       "            </tr>\n",
       "            <tr>\n",
       "                        <th id=\"T_9667f50f_8686_11ec_befd_a497b18cfc26level0_row4\" class=\"row_heading level0 row4\" >4</th>\n",
       "                        <td id=\"T_9667f50f_8686_11ec_befd_a497b18cfc26row4_col0\" class=\"data row4 col0\" >19/20</td>\n",
       "            </tr>\n",
       "    </tbody></table>"
      ],
      "text/plain": [
       "<pandas.io.formats.style.Styler at 0x2475850cb20>"
      ]
     },
     "metadata": {},
     "output_type": "display_data"
    },
    {
     "name": "stdout",
     "output_type": "stream",
     "text": [
      "Choose the season number you want to learn: 2\n"
     ]
    }
   ],
   "source": [
    "Seasons = [\"15/16\", \"16/17\",\"17/18\", \"18/19\",\"19/20\"]\n",
    "seasons_df = pd.DataFrame(Seasons, columns = ['Seasons'])\n",
    "seasons_df = seasons_df.style.set_properties(**{'text-align': 'center','background-color':'#dcf5f7'})\n",
    "seasons_df = seasons_df.set_table_styles([dict(selector = 'th', \n",
    "                                               props=[('text-align', 'center'),('background-color', '#dcf5f7')])])\n",
    "\n",
    "display(seasons_df)\n",
    "season_learning_number = int(input(\"Choose the season number you want to learn: \"))"
   ]
  },
  {
   "cell_type": "code",
   "execution_count": 6,
   "metadata": {},
   "outputs": [],
   "source": [
    "def competition_switcher(x):\n",
    "    switcher = {\n",
    "        0: [\"bundesliga\",\"L1\"],\n",
    "        1: [\"serie-a\",\"IT1\"],\n",
    "        2: [\"ligue-1\",\"FR1\"], \n",
    "        3: [\"premier-league\",\"GB1\"],\n",
    "        4: [\"laliga\",\"ES1\"]\n",
    "    }\n",
    "    return switcher.get(x, \"you choose invalid Competiton number\")\n",
    "\n",
    "def season_switcher(x):\n",
    "    switcher = {\n",
    "        0: '2019',   \n",
    "        1: '2018',   \n",
    "        2: '2017',   \n",
    "        3: '2016',   \n",
    "        4: '2015'    \n",
    "    }\n",
    "    return switcher.get(x, \"you choose invalid Season number\")"
   ]
  },
  {
   "cell_type": "code",
   "execution_count": 7,
   "metadata": {},
   "outputs": [],
   "source": [
    "#chosen competitions page \n",
    "    \n",
    "competition_page = competition_switcher(competition_to_learn_num)\n",
    "season_year = season_switcher(season_learning_number)\n",
    "\n",
    "competition_url = \"https://www.transfermarkt.com/\" + competition_page[0] + \"/spieltagtabelle/wettbewerb/\" + competition_page[1] + \"?saison_id=\" + season_year + \"&spieltag=1\"\n",
    "\n",
    "response = requests.get(competition_url, headers={'User-Agent': 'Custom'})\n",
    "competition_url_content = BeautifulSoup(response.content, 'html.parser')"
   ]
  },
  {
   "cell_type": "code",
   "execution_count": 8,
   "metadata": {},
   "outputs": [],
   "source": [
    "#teams url\n",
    "\n",
    "competition_url = \"https://www.transfermarkt.com/\" + competition_page[0] + \"/tabelle/wettbewerb/\" + competition_page[1] + \"/saison_id/\" + season_year\n",
    "\n",
    "response = requests.get(competition_url, headers={'User-Agent': 'Custom'})\n",
    "competition_url_content = BeautifulSoup(response.content, 'html.parser')\n",
    "teams_url_page = []\n",
    "\n",
    "a = competition_url_content.find(\"div\", class_= \"responsive-table\").find(\"table\").find(\"tbody\")\n",
    "for tr in a.findAll(\"tr\"):\n",
    "    temp = tr.find(\"td\", class_= \"no-border-links hauptlink\").find(\"a\")\n",
    "    team_name = temp.get_text(strip=True)\n",
    "    team_full_link = temp.get('href')\n",
    "    teamName_url, team_id = get_name_and_id_from_url(team_full_link);\n",
    "\n",
    "    teams_url_page.append(tuple([team_name, teamName_url,team_id]))\n",
    "    "
   ]
  },
  {
   "cell_type": "code",
   "execution_count": 9,
   "metadata": {},
   "outputs": [],
   "source": [
    "#teams market values \n",
    "\n",
    "teams_values_url = \"https://www.transfermarkt.com/\" + competition_page[0] + \"/marktwerteverein/wettbewerb/\" + competition_page[1] + \"/plus/?stichtag=\" + season_year + \"-09-01\"\n",
    "\n",
    "response = requests.get(teams_values_url, headers={'User-Agent': 'Custom'})\n",
    "teams_values_url_content = BeautifulSoup(response.content, 'html.parser')\n"
   ]
  },
  {
   "cell_type": "markdown",
   "metadata": {},
   "source": [
    "### Teams market values"
   ]
  },
  {
   "cell_type": "code",
   "execution_count": 10,
   "metadata": {},
   "outputs": [],
   "source": [
    "teams_stats_sum = []\n",
    "for each_tuple in teams_url_page:\n",
    "    team_name = each_tuple[0]\n",
    "    teams_values_url = \"https://www.transfermarkt.com/\" + each_tuple[1] + \"/kader/verein/\" + each_tuple[2] + \"/plus/0/galerie/0?saison_id=\" + season_year\n",
    "    response = requests.get(teams_values_url, headers={'User-Agent': 'Custom'})\n",
    "    teams_values_url_content = BeautifulSoup(response.content, 'html.parser')\n",
    "    \n",
    "    a = teams_values_url_content.find(\"div\", class_= \"large-4 columns\").find(\"div\", class_= \"box\").find(\"table\").find(\"tfoot\").find(\"tr\")\n",
    "    td_list = a.findAll(\"td\")\n",
    "    team_value = td_list[2].get_text(strip=True)\n",
    "    team_value_final = float(re.search(r'\\d+\\.\\d+', team_value).group())\n",
    "    if 'm' in team_value.lower():\n",
    "        team_value_final *= 1000000 \n",
    "    elif 'b' in team_value.lower():\n",
    "        team_value_final *= 1000000000\n",
    "    team_value_final = int(team_value_final)\n",
    "    teams_stats_sum.append([team_name, team_value_final, 0, 0, 0, 0, 0, each_tuple[2]])\n",
    "\n",
    "while len(teams_stats_sum) < 20:\n",
    "    teams_stats_sum.append([0, 0, 0, 0, 0, 0, 0, 0])"
   ]
  },
  {
   "cell_type": "code",
   "execution_count": 11,
   "metadata": {},
   "outputs": [],
   "source": [
    "def team_switcher(x):\n",
    "    switcher = {\n",
    "        teams_stats_sum[0][0]: 0,\n",
    "        teams_stats_sum[1][0]: 1,\n",
    "        teams_stats_sum[2][0]: 2,\n",
    "        teams_stats_sum[3][0]: 3,\n",
    "        teams_stats_sum[4][0]: 4,\n",
    "        teams_stats_sum[5][0]: 5,\n",
    "        teams_stats_sum[6][0]: 6,\n",
    "        teams_stats_sum[7][0]: 7,\n",
    "        teams_stats_sum[8][0]: 8,\n",
    "        teams_stats_sum[9][0]: 9,\n",
    "        teams_stats_sum[10][0]: 10,\n",
    "        teams_stats_sum[11][0]: 11,\n",
    "        teams_stats_sum[12][0]: 12,\n",
    "        teams_stats_sum[13][0]: 13,\n",
    "        teams_stats_sum[14][0]: 14,\n",
    "        teams_stats_sum[15][0]: 15,\n",
    "        teams_stats_sum[16][0]: 16,\n",
    "        teams_stats_sum[17][0]: 17,\n",
    "        teams_stats_sum[18][0]: 18,\n",
    "        teams_stats_sum[19][0]: 19\n",
    "\n",
    "    }\n",
    "    return switcher.get(x, \"invalid number\")"
   ]
  },
  {
   "cell_type": "markdown",
   "metadata": {},
   "source": [
    "### Season matches results"
   ]
  },
  {
   "cell_type": "code",
   "execution_count": 12,
   "metadata": {},
   "outputs": [
    {
     "name": "stdout",
     "output_type": "stream",
     "text": [
      "https://www.transfermarkt.com/premier-league/gesamtspielplan/wettbewerb/GB1/saison_id/2017\n",
      "Please wait, Im working on it and Im working hard:( \n"
     ]
    }
   ],
   "source": [
    "season_matches_results_url = \"https://www.transfermarkt.com/\" + competition_page[0] + \"/gesamtspielplan/wettbewerb/\" + competition_page[1] + \"/saison_id/\" + season_year\n",
    "response = requests.get(season_matches_results_url, headers={'User-Agent': 'Custom'})\n",
    "season_matches_results_url_content = BeautifulSoup(response.content, 'html.parser')    \n",
    "print(season_matches_results_url)\n",
    "base_url = \"https://www.transfermarkt.com\"\n",
    "df_train_rows = []\n",
    "df_target_rows = []\n",
    "\n",
    "print(\"Please wait, Im working on it and Im working hard:( \")"
   ]
  },
  {
   "cell_type": "code",
   "execution_count": 13,
   "metadata": {},
   "outputs": [],
   "source": [
    "for each_matchday in season_matches_results_url_content.findAll(\"div\", class_= \"large-6 columns\"):\n",
    "    current_matchday_table = each_matchday.find(\"table\")\n",
    "    if current_matchday_table != None:\n",
    "        current_matchday_tbody = current_matchday_table.find(\"tbody\")\n",
    "        for row in current_matchday_tbody.findAll(\"tr\", class_=None): \n",
    "            home_team_points = 0\n",
    "            away_team_points = 0\n",
    "            last_matches_between_teams_url = base_url\n",
    "            \n",
    "            for game_result in row.findAll(\"td\", class_= \"zentriert hauptlink\"):\n",
    "                result = game_result.find(\"a\", class_= \"ergebnis-link\").get_text(strip=True)\n",
    "                result = result.partition(':')\n",
    "                home_team_goals = int(re.search(r'\\d+', result[0]).group())\n",
    "                away_team_goals = int(re.search(r'\\d+', result[2]).group())\n",
    "                if home_team_goals > away_team_goals:\n",
    "                    home_team_points = 2\n",
    "                    df_target_rows.append(2)\n",
    "                elif home_team_goals < away_team_goals:\n",
    "                    away_team_points = 2\n",
    "                    df_target_rows.append(0)\n",
    "                else:\n",
    "                    home_team_points = 1\n",
    "                    away_team_points = 1\n",
    "                    df_target_rows.append(1)\n",
    "                last_matches_between_teams_url += game_result.find(\"a\", class_= \"ergebnis-link\").get('href')\n",
    "            \n",
    "            for home_team_stats in row.findAll(\"td\", class_= \"text-right no-border-rechts hauptlink\"):\n",
    "                home_team_position = home_team_stats.find(\"span\", class_= \"tabellenplatz\").get_text(strip=True)\n",
    "                home_team_position = int(re.search(r'\\d+', home_team_position).group())\n",
    "                home_team_name = home_team_stats.find(\"a\").get_text(strip=True)\n",
    "                switcher_home_num = team_switcher(home_team_name)\n",
    "                try:      \n",
    "                    home_team_current_points =  teams_stats_sum[switcher_home_num][3] / teams_stats_sum[switcher_home_num][5]\n",
    "                except:\n",
    "                    home_team_current_points = 0\n",
    "\n",
    "                teams_stats_sum[switcher_home_num][2] = home_team_position\n",
    "                teams_stats_sum[switcher_home_num][5] += 1\n",
    "                teams_stats_sum[switcher_home_num][3] += home_team_points\n",
    "                \n",
    "            for away_team_stats in row.findAll(\"td\", class_= \"no-border-links hauptlink\"): #away team\n",
    "                away_team_position = away_team_stats.find(\"span\", class_= \"tabellenplatz\").get_text(strip=True)\n",
    "                away_team_position = int(re.search(r'\\d+', away_team_position).group())\n",
    "                away_team_name = away_team_stats.find(\"a\").get_text(strip=True)\n",
    "\n",
    "                switcher_away_num = team_switcher(away_team_name)\n",
    "                try:      \n",
    "                    away_team_current_points = teams_stats_sum[switcher_away_num][4] / teams_stats_sum[switcher_away_num][6]\n",
    "                except:\n",
    "                    away_team_current_points = 0   \n",
    "                \n",
    "                teams_stats_sum[switcher_away_num][2] = away_team_position\n",
    "                teams_stats_sum[switcher_away_num][6] += 1\n",
    "                teams_stats_sum[switcher_away_num][4] += away_team_points\n",
    "                \n",
    "            last_matches_between_teams_url = re.sub('/index/', '/vorbericht/', last_matches_between_teams_url)\n",
    "            response = requests.get(last_matches_between_teams_url, headers={'User-Agent': 'Custom'})\n",
    "            last_matches_between_teams_url_content = BeautifulSoup(response.content, 'html.parser')\n",
    "            \n",
    "            last_matches_between_teams = last_matches_between_teams_url_content.find(\"div\", class_=\"table-header\",\n",
    "                          text=re.compile('Last')).find_parent(\"div\", class_=\"box\")\n",
    "            \n",
    "            current_match_home_team_points = 0\n",
    "            current_match_away_team_points = 0\n",
    "            match_results = last_matches_between_teams.find(\"tbody\")\n",
    "            for each_match_result in match_results.findAll(\"tr\"):\n",
    "                current_match_competition = each_match_result.find(\"td\", class_= \"zentriert\").find('img').get('title') # want to get only league games\n",
    "                current_match_competition = current_match_competition.partition('.')[0]\n",
    "                if current_match_competition.lower() == competition_page[1].lower():\n",
    "                    temp = each_match_result.find(\"td\", class_=\"no-border-links\")\n",
    "                    current_teamName_url, current_home_team_id = get_name_and_id_from_url(team_full_link);\n",
    "                    \n",
    "                    home_team_id = teams_stats_sum[switcher_home_num][7]\n",
    "                \n",
    "                    if home_team_id == current_home_team_id:\n",
    "                        current_match_res = each_match_result.find(\"a\", title=\"Match report\", class_=\"ergebnis-link\").get_text(strip=True)\n",
    "                        current_match_res = current_match_res.partition(':')\n",
    "                        current_match_home_team_goals = int(re.search(r'\\d+', current_match_res[0]).group())\n",
    "                        current_match_away_team_goals = int(re.search(r'\\d+', current_match_res[2]).group())\n",
    "                        if current_match_home_team_goals > current_match_away_team_goals:\n",
    "                            current_match_home_team_points += 2\n",
    "                        elif current_match_home_team_goals < current_match_away_team_goals:\n",
    "                            current_match_away_team_points += 2\n",
    "                        else:\n",
    "                            current_match_home_team_points += 1\n",
    "                            current_match_away_team_points += 1\n",
    "\n",
    "            \n",
    "            last_matches_between_teams_results = current_match_home_team_points - current_match_away_team_points\n",
    "            positions = teams_stats_sum[switcher_away_num][2] - teams_stats_sum[switcher_home_num][2]\n",
    "            values = teams_stats_sum[switcher_home_num][1] / teams_stats_sum[switcher_away_num][1]\n",
    "\n",
    "            last_each_team_results = home_team_current_points - away_team_current_points\n",
    "            df_train_rows.append(tuple([values, positions, last_each_team_results, last_matches_between_teams_results]))"
   ]
  },
  {
   "cell_type": "raw",
   "metadata": {},
   "source": [
    "df_train = pd.read_csv(\"df_train.csv\")\n",
    "df_target = pd.read_csv(\"df_target.csv\")"
   ]
  },
  {
   "cell_type": "code",
   "execution_count": 14,
   "metadata": {
    "scrolled": true
   },
   "outputs": [],
   "source": [
    "#train df \n",
    "\n",
    "df_train = pd.DataFrame(df_train_rows, columns = ['Values', 'Positions', \"Last teams results\",'Last results between teams'])\n",
    "df_train.to_csv(\"df_train.csv\")\n",
    "df_train = df_train.style.set_properties(**{'text-align': 'left'})\n",
    "\n",
    "df_train = df_train.set_table_styles([dict(selector = 'th', props=[('text-align', 'left')])])"
   ]
  },
  {
   "cell_type": "code",
   "execution_count": 15,
   "metadata": {},
   "outputs": [],
   "source": [
    "#target df\n",
    "\n",
    "df_target = pd.DataFrame(df_target_rows, columns = ['Match Result']) \n",
    "df_target.to_csv(\"df_target.csv\")\n",
    "df_target = df_target.style.set_properties(**{'text-align': 'left'})\n",
    "\n",
    "df_target = df_target.set_table_styles([dict(selector = 'th', props=[('text-align', 'left')])])"
   ]
  },
  {
   "cell_type": "markdown",
   "metadata": {},
   "source": [
    "### Split Data"
   ]
  },
  {
   "cell_type": "code",
   "execution_count": 16,
   "metadata": {},
   "outputs": [],
   "source": [
    "X = df_train_rows\n",
    "y = df_target_rows\n",
    "X_train, X_test, y_train, y_test = train_test_split(X, y, random_state=1, test_size=0.3)"
   ]
  },
  {
   "cell_type": "markdown",
   "metadata": {},
   "source": [
    "### Logistic Regression"
   ]
  },
  {
   "cell_type": "code",
   "execution_count": 17,
   "metadata": {},
   "outputs": [],
   "source": [
    "lr_model = LogisticRegression(solver='liblinear', random_state=42)\n",
    "lr_model.fit(X_train, y_train)\n",
    "lr_model_test_results = metrics.accuracy_score(y_true = y_test, y_pred = lr_model.predict(X_test))"
   ]
  },
  {
   "cell_type": "markdown",
   "metadata": {},
   "source": [
    "### Naive Bayes"
   ]
  },
  {
   "cell_type": "code",
   "execution_count": 18,
   "metadata": {},
   "outputs": [],
   "source": [
    "nb_model = GaussianNB()\n",
    "nb_model.fit(X_train,y_train)\n",
    "y_pred = nb_model.predict(X_test) \n",
    "y_pred_train = nb_model.predict(X_train)\n",
    "nb_model_test_results = metrics.accuracy_score(y_true = y_test, y_pred = y_pred)"
   ]
  },
  {
   "cell_type": "markdown",
   "metadata": {},
   "source": [
    "### KNN"
   ]
  },
  {
   "cell_type": "code",
   "execution_count": 19,
   "metadata": {},
   "outputs": [],
   "source": [
    "knn_model = KNeighborsClassifier(n_neighbors=9)\n",
    "knn_model.fit(X_train, y_train)\n",
    "knn_model_test_results = metrics.accuracy_score(y_true = y_test, y_pred = knn_model.predict(X_test))"
   ]
  },
  {
   "cell_type": "markdown",
   "metadata": {},
   "source": [
    "### Best Model"
   ]
  },
  {
   "cell_type": "code",
   "execution_count": 20,
   "metadata": {},
   "outputs": [
    {
     "name": "stdout",
     "output_type": "stream",
     "text": [
      "Logistic Regression test result=  0.49122807017543857\n",
      "Naive Bayes test result=  0.49122807017543857\n",
      "KNN test result= 0.5087719298245614\n",
      "Best test result =  KNeighborsClassifier(n_neighbors=9)\n"
     ]
    }
   ],
   "source": [
    "print('Logistic Regression test result= ', lr_model_test_results)\n",
    "print('Naive Bayes test result= ', nb_model_test_results)\n",
    "print('KNN test result=',knn_model_test_results )\n",
    "if (lr_model_test_results > nb_model_test_results):\n",
    "    best_model = lr_model\n",
    "elif(knn_model_test_results > nb_model_test_results):\n",
    "    best_model = knn_model\n",
    "else: best_model = nb_model\n",
    "print('Best test result = ', best_model)\n",
    " "
   ]
  },
  {
   "cell_type": "code",
   "execution_count": 21,
   "metadata": {},
   "outputs": [],
   "source": [
    "#switcher algorithm\n",
    "\n",
    "def machineLearning_algo_switcher(x):\n",
    "    switcher = {\n",
    "        0: lr_model,       #Logistic Regression\n",
    "        1: nb_model,       #Naive Bayes\n",
    "        2: knn_model,      #KNN\n",
    "        3: best_model\n",
    "    }\n",
    "    return switcher.get(x, \"Invalid Machine Learning algorithm's number\")\n"
   ]
  },
  {
   "cell_type": "code",
   "execution_count": 22,
   "metadata": {},
   "outputs": [
    {
     "data": {
      "text/html": [
       "<style  type=\"text/css\" >\n",
       "    #T_15a48d5d_8689_11ec_89f4_a497b18cfc26 th {\n",
       "          text-align: left;\n",
       "          background-color: #d0f8ff;\n",
       "    }#T_15a48d5d_8689_11ec_89f4_a497b18cfc26row0_col0,#T_15a48d5d_8689_11ec_89f4_a497b18cfc26row1_col0,#T_15a48d5d_8689_11ec_89f4_a497b18cfc26row2_col0,#T_15a48d5d_8689_11ec_89f4_a497b18cfc26row3_col0{\n",
       "            text-align:  left;\n",
       "            background-color:  #dcf5f7;\n",
       "        }</style><table id=\"T_15a48d5d_8689_11ec_89f4_a497b18cfc26\" ><thead>    <tr>        <th class=\"blank level0\" ></th>        <th class=\"col_heading level0 col0\" >Machine_Learning_Algorithms</th>    </tr></thead><tbody>\n",
       "                <tr>\n",
       "                        <th id=\"T_15a48d5d_8689_11ec_89f4_a497b18cfc26level0_row0\" class=\"row_heading level0 row0\" >0</th>\n",
       "                        <td id=\"T_15a48d5d_8689_11ec_89f4_a497b18cfc26row0_col0\" class=\"data row0 col0\" >Logistic Regression</td>\n",
       "            </tr>\n",
       "            <tr>\n",
       "                        <th id=\"T_15a48d5d_8689_11ec_89f4_a497b18cfc26level0_row1\" class=\"row_heading level0 row1\" >1</th>\n",
       "                        <td id=\"T_15a48d5d_8689_11ec_89f4_a497b18cfc26row1_col0\" class=\"data row1 col0\" >Naive Bayes</td>\n",
       "            </tr>\n",
       "            <tr>\n",
       "                        <th id=\"T_15a48d5d_8689_11ec_89f4_a497b18cfc26level0_row2\" class=\"row_heading level0 row2\" >2</th>\n",
       "                        <td id=\"T_15a48d5d_8689_11ec_89f4_a497b18cfc26row2_col0\" class=\"data row2 col0\" >KNN</td>\n",
       "            </tr>\n",
       "            <tr>\n",
       "                        <th id=\"T_15a48d5d_8689_11ec_89f4_a497b18cfc26level0_row3\" class=\"row_heading level0 row3\" >3</th>\n",
       "                        <td id=\"T_15a48d5d_8689_11ec_89f4_a497b18cfc26row3_col0\" class=\"data row3 col0\" >The Best</td>\n",
       "            </tr>\n",
       "    </tbody></table>"
      ],
      "text/plain": [
       "<pandas.io.formats.style.Styler at 0x24759458280>"
      ]
     },
     "metadata": {},
     "output_type": "display_data"
    },
    {
     "name": "stdout",
     "output_type": "stream",
     "text": [
      "Choose Machine Learning Algorithm number: 0\n",
      "Stored 'chosen_model' (LogisticRegression)\n",
      "LogisticRegression(random_state=42, solver='liblinear')\n"
     ]
    }
   ],
   "source": [
    "Machine_Learning_Algorithms = [\"Logistic Regression\", \"Naive Bayes\",\"KNN\", \"The Best\"]\n",
    "\n",
    "ML_Algorithms_df = pd.DataFrame(Machine_Learning_Algorithms, columns = ['Machine_Learning_Algorithms'])\n",
    "ML_Algorithms_df = ML_Algorithms_df.style.set_properties(**{'text-align': 'left','background-color':'#dcf5f7'})\n",
    "ML_Algorithms_df = ML_Algorithms_df.set_table_styles([dict(selector = 'th', props=[('text-align', 'left'),('background-color', '#d0f8ff')])])\n",
    "display(ML_Algorithms_df)\n",
    "chosen_number_algo = int(input(\"Choose Machine Learning Algorithm number: \"))\n",
    "\n",
    "chosen_model = machineLearning_algo_switcher(chosen_number_algo)\n",
    "%store chosen_model\n",
    "print(chosen_model)"
   ]
  },
  {
   "cell_type": "markdown",
   "metadata": {},
   "source": [
    "### Visualizing Confusion Matrix using Heatmap"
   ]
  },
  {
   "cell_type": "code",
   "execution_count": 23,
   "metadata": {},
   "outputs": [],
   "source": [
    "LogisticRegression_matrix = metrics.confusion_matrix(y_test, lr_model.predict(X_test))\n",
    "NaiveBayes_matrix = metrics.confusion_matrix(y_test, y_pred)\n",
    "KNN_matrix = metrics.confusion_matrix(y_test, knn_model.predict(X_test))"
   ]
  },
  {
   "cell_type": "markdown",
   "metadata": {},
   "source": [
    "#### Logistic Regression's Confusion Matrix Heatmap"
   ]
  },
  {
   "cell_type": "code",
   "execution_count": 24,
   "metadata": {},
   "outputs": [
    {
     "data": {
      "image/png": "[encoded data removed]",
      "text/plain": [
       "<Figure size 432x288 with 2 Axes>"
      ]
     },
     "metadata": {
      "needs_background": "light"
     },
     "output_type": "display_data"
    },
    {
     "name": "stdout",
     "output_type": "stream",
     "text": [
      "Logistic Regression - The accuracy on test data:  0.49122807017543857\n"
     ]
    }
   ],
   "source": [
    "name_of_classes = [1,2,3] \n",
    "fig, ax = plt.subplots()\n",
    "tick_marks = np.arange(len(name_of_classes))\n",
    "plt.xticks(tick_marks, name_of_classes)\n",
    "plt.yticks(tick_marks, name_of_classes)\n",
    "\n",
    "sns.heatmap(pd.DataFrame(LogisticRegression_matrix), annot=True, cmap=\"Purples\" ,fmt='g')\n",
    "ax.xaxis.set_label_position(\"top\")\n",
    "plt.tight_layout()\n",
    "plt.title('The Logistic Regression Confusion matrix', y=1.1)\n",
    "plt.ylabel('True label')\n",
    "plt.xlabel('Predicted label')\n",
    "plt.show()\n",
    "print('Logistic Regression - The accuracy on test data: ', lr_model_test_results)\n"
   ]
  },
  {
   "cell_type": "markdown",
   "metadata": {},
   "source": [
    "#### Naive Bayes's Confusion Matrix Heatmap"
   ]
  },
  {
   "cell_type": "code",
   "execution_count": 25,
   "metadata": {},
   "outputs": [
    {
     "data": {
      "image/png": "[encoded data removed]",
      "text/plain": [
       "<Figure size 432x288 with 2 Axes>"
      ]
     },
     "metadata": {
      "needs_background": "light"
     },
     "output_type": "display_data"
    },
    {
     "name": "stdout",
     "output_type": "stream",
     "text": [
      "Naive Bayes - The accuracy on train data is: 0.518796992481203\n",
      "Naive Bayes - The accuracy on test data is: 0.49122807017543857\n"
     ]
    }
   ],
   "source": [
    "sns.heatmap(pd.DataFrame(NaiveBayes_matrix), annot=True, cmap=\"BuPu_r\" ,fmt='g')\n",
    "ax.xaxis.set_label_position(\"top\")\n",
    "plt.tight_layout()\n",
    "plt.title('The Naive Bayes Confusion matrix', y=1.1)\n",
    "plt.ylabel('True label')\n",
    "plt.xlabel('Predicted label')\n",
    "plt.show()\n",
    "print('Naive Bayes - The accuracy on train data is:', metrics.accuracy_score(y_true = y_train, y_pred = y_pred_train))\n",
    "print('Naive Bayes - The accuracy on test data is:', nb_model_test_results)"
   ]
  },
  {
   "cell_type": "markdown",
   "metadata": {},
   "source": [
    "#### KNN's Confusion Matrix Heatmap"
   ]
  },
  {
   "cell_type": "code",
   "execution_count": 26,
   "metadata": {},
   "outputs": [
    {
     "data": {
      "image/png": "[encoded data removed]",
      "text/plain": [
       "<Figure size 432x288 with 2 Axes>"
      ]
     },
     "metadata": {
      "needs_background": "light"
     },
     "output_type": "display_data"
    },
    {
     "name": "stdout",
     "output_type": "stream",
     "text": [
      "KNN - The accuracy on test data:  0.5087719298245614\n"
     ]
    }
   ],
   "source": [
    "sns.heatmap(pd.DataFrame(KNN_matrix), annot=True, cmap=\"Purples_r\" ,fmt='g')\n",
    "ax.xaxis.set_label_position(\"top\")\n",
    "plt.tight_layout()\n",
    "plt.title('My KNN Confusion matrix', y=1.1)\n",
    "plt.ylabel('True label')\n",
    "plt.xlabel('Predicted label')\n",
    "plt.show()\n",
    "print('KNN - The accuracy on test data: ', knn_model_test_results)"
   ]
  },
  {
   "cell_type": "code",
   "execution_count": null,
   "metadata": {},
   "outputs": [],
   "source": []
  }
 ],
 "metadata": {
  "kernelspec": {
   "display_name": "Python 3",
   "language": "python",
   "name": "python3"
  },
  "language_info": {
   "codemirror_mode": {
    "name": "ipython",
    "version": 3
   },
   "file_extension": ".py",
   "mimetype": "text/x-python",
   "name": "python",
   "nbconvert_exporter": "python",
   "pygments_lexer": "ipython3",
   "version": "3.8.5"
  }
 },
 "nbformat": 4,
 "nbformat_minor": 4
}
